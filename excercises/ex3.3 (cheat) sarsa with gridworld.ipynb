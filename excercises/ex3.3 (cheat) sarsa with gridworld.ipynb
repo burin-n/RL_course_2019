{
 "cells": [
  {
   "cell_type": "markdown",
   "metadata": {},
   "source": [
    "# SARSA with Gridworld\n",
    "\n",
    "## Goal:\n",
    "\n",
    "- Adapt from Monte Carlo\n",
    "- SARSA"
   ]
  },
  {
   "cell_type": "code",
   "execution_count": 1,
   "metadata": {},
   "outputs": [],
   "source": [
    "import gym\n",
    "import chula_rl as rl\n",
    "import os\n",
    "import numpy as np\n",
    "import random\n",
    "from collections import deque, defaultdict\n",
    "import pandas as pd\n",
    "import matplotlib.pyplot as plt"
   ]
  },
  {
   "cell_type": "markdown",
   "metadata": {},
   "source": [
    "## Step 1: Make Env"
   ]
  },
  {
   "cell_type": "code",
   "execution_count": 2,
   "metadata": {},
   "outputs": [
    {
     "data": {
      "image/png": "[encoded data removed]",
      "text/plain": [
       "<Figure size 288x144 with 3 Axes>"
      ]
     },
     "metadata": {
      "needs_background": "light"
     },
     "output_type": "display_data"
    }
   ],
   "source": [
    "def make_env():\n",
    "    env = rl.env.Gridworld(shape=(4, 3),\n",
    "                           start=(2, 0),\n",
    "                           goal=(1, 2),\n",
    "                           move_reward=-1)\n",
    "    env = rl.env.wrapper.ClipEpisodeLength(env, n_max_length=20)\n",
    "    env = rl.env.wrapper.EpisodeSummary(env)\n",
    "    return env\n",
    "\n",
    "\n",
    "env = make_env()\n",
    "env.reset()\n",
    "env.render()\n"
   ]
  },
  {
   "cell_type": "markdown",
   "metadata": {},
   "source": [
    "## Step 2: Define policy\n",
    "\n",
    "SARSA with policy iteration (with only one-step policy evaluation) using moving average."
   ]
  },
  {
   "cell_type": "code",
   "execution_count": 3,
   "metadata": {},
   "outputs": [],
   "source": [
    "class SARSAPolicy(rl.policy.BasePolicy):\n",
    "\n",
    "    def __init__(self, lr, discount_factor, observation_space, n_action):\n",
    "        self.lr = lr\n",
    "        self.discount_factor = discount_factor\n",
    "        self.observation_space = observation_space\n",
    "        self.n_action = n_action\n",
    "\n",
    "        self.q = np.zeros(list(self.observation_space.high) +\n",
    "                          [n_action])  # (s0, s1, a)\n",
    "\n",
    "    def step(self, state):\n",
    "        # code here ...\n",
    "        # ...\n",
    "        return np.argmax(self.q[tuple(state)])  # greedy action selection\n",
    "\n",
    "    def optimize_step(self, data):\n",
    "        # code here ...\n",
    "        # ...\n",
    "        s, a, r, ss, aa, done = data['s'], data['a'], data['r'], data[\n",
    "            'ss'], data['aa'], data['done']\n",
    "        sa = tuple(s) + (a,)  # (s0, s1, a)\n",
    "        ssaa = tuple(ss) + (aa,)\n",
    "        td_error = r + (1.0 -\n",
    "                        done) * self.discount_factor * self.q[ssaa] - self.q[sa]\n",
    "        self.q[sa] += self.lr * td_error"
   ]
  },
  {
   "cell_type": "markdown",
   "metadata": {},
   "source": [
    "## Step 3: Define an explorer\n",
    "\n",
    "Create `OneStepExplorer` to use with SARSA. You could look at the `EpisodeExplorer` for inspirations.\n",
    "\n",
    "The `OneStepExplorer` should run a given policy only for ONE step then return what it sees.\n",
    "\n",
    "It should return something like this from its `step` method: \n",
    "\n",
    "```\n",
    "{\n",
    "    's': current state,\n",
    "    'a': action,\n",
    "    'r': reward,\n",
    "    'ss': next state,\n",
    "    'aa': next action,\n",
    "    'done': is done?,\n",
    "}\n",
    "```"
   ]
  },
  {
   "cell_type": "code",
   "execution_count": 4,
   "metadata": {},
   "outputs": [],
   "source": [
    "class OneStepExplorer(rl.explorer.BaseExplorer):\n",
    "    \"\"\"explore the environment only one-step then returns the experience immediately\"\"\"\n",
    "    def __init__(self, n_max_interaction, env):\n",
    "        super().__init__(env)\n",
    "        self.n_max_interaction = n_max_interaction\n",
    "        self.last_s = self.env.reset()\n",
    "        self.n_interaction = 0\n",
    "        self.n_ep = 0\n",
    "\n",
    "    def step(self, policy):\n",
    "        if self.n_interaction >= self.n_max_interaction:\n",
    "            raise rl.exception.InteractionExceeded()\n",
    "            \n",
    "        # code here\n",
    "        # ...\n",
    "        \n",
    "        a = policy.step(self.last_s)\n",
    "        s, r, done, info = self.env.step(a)\n",
    "        self.n_interaction += 1\n",
    "\n",
    "        data = {\n",
    "            's': self.last_s,\n",
    "            'a': a,\n",
    "            'r': r,\n",
    "            'ss': s,\n",
    "            'aa': policy.step(s),  # for SARSA\n",
    "            'done': done,\n",
    "        }\n",
    "\n",
    "        self.last_s = s\n",
    "\n",
    "        if done:\n",
    "            self.last_s = self.env.reset()\n",
    "            self.n_ep += 1\n",
    "            self._update_stats(self.n_interaction, info['episode']['reward'])\n",
    "\n",
    "        return data\n"
   ]
  },
  {
   "cell_type": "markdown",
   "metadata": {},
   "source": [
    "Test the explorer:"
   ]
  },
  {
   "cell_type": "code",
   "execution_count": 5,
   "metadata": {},
   "outputs": [
    {
     "data": {
      "text/plain": [
       "{'s': array([2, 0]),\n",
       " 'a': 3,\n",
       " 'r': -1,\n",
       " 'ss': array([2, 1]),\n",
       " 'aa': 3,\n",
       " 'done': False}"
      ]
     },
     "execution_count": 5,
     "metadata": {},
     "output_type": "execute_result"
    }
   ],
   "source": [
    "rl.util.set_seed(0)\n",
    "explorer = OneStepExplorer(1, make_env())\n",
    "explorer.step(rl.policy.RandomPolicy(n_action=4))"
   ]
  },
  {
   "cell_type": "markdown",
   "metadata": {},
   "source": [
    "Expected result: \n",
    "\n",
    "```\n",
    "{'s': array([2, 0]),\n",
    " 'a': 3,\n",
    " 'r': -1,\n",
    " 'ss': array([2, 1]),\n",
    " 'aa': 3,\n",
    " 'done': False}\n",
    "```"
   ]
  },
  {
   "cell_type": "code",
   "execution_count": 6,
   "metadata": {},
   "outputs": [
    {
     "ename": "InteractionExceeded",
     "evalue": "",
     "output_type": "error",
     "traceback": [
      "\u001b[0;31m---------------------------------------------------------------------------\u001b[0m",
      "\u001b[0;31mInteractionExceeded\u001b[0m                       Traceback (most recent call last)",
      "\u001b[0;32m<ipython-input-6-045ae5c6fd82>\u001b[0m in \u001b[0;36m<module>\u001b[0;34m\u001b[0m\n\u001b[0;32m----> 1\u001b[0;31m \u001b[0mexplorer\u001b[0m\u001b[0;34m.\u001b[0m\u001b[0mstep\u001b[0m\u001b[0;34m(\u001b[0m\u001b[0mrl\u001b[0m\u001b[0;34m.\u001b[0m\u001b[0mpolicy\u001b[0m\u001b[0;34m.\u001b[0m\u001b[0mRandomPolicy\u001b[0m\u001b[0;34m(\u001b[0m\u001b[0mn_action\u001b[0m\u001b[0;34m=\u001b[0m\u001b[0;36m4\u001b[0m\u001b[0;34m)\u001b[0m\u001b[0;34m)\u001b[0m\u001b[0;34m\u001b[0m\u001b[0;34m\u001b[0m\u001b[0m\n\u001b[0m",
      "\u001b[0;32m<ipython-input-4-a02a3d3c276b>\u001b[0m in \u001b[0;36mstep\u001b[0;34m(self, policy)\u001b[0m\n\u001b[1;32m     10\u001b[0m     \u001b[0;32mdef\u001b[0m \u001b[0mstep\u001b[0m\u001b[0;34m(\u001b[0m\u001b[0mself\u001b[0m\u001b[0;34m,\u001b[0m \u001b[0mpolicy\u001b[0m\u001b[0;34m)\u001b[0m\u001b[0;34m:\u001b[0m\u001b[0;34m\u001b[0m\u001b[0;34m\u001b[0m\u001b[0m\n\u001b[1;32m     11\u001b[0m         \u001b[0;32mif\u001b[0m \u001b[0mself\u001b[0m\u001b[0;34m.\u001b[0m\u001b[0mn_interaction\u001b[0m \u001b[0;34m>=\u001b[0m \u001b[0mself\u001b[0m\u001b[0;34m.\u001b[0m\u001b[0mn_max_interaction\u001b[0m\u001b[0;34m:\u001b[0m\u001b[0;34m\u001b[0m\u001b[0;34m\u001b[0m\u001b[0m\n\u001b[0;32m---> 12\u001b[0;31m             \u001b[0;32mraise\u001b[0m \u001b[0mrl\u001b[0m\u001b[0;34m.\u001b[0m\u001b[0mexception\u001b[0m\u001b[0;34m.\u001b[0m\u001b[0mInteractionExceeded\u001b[0m\u001b[0;34m(\u001b[0m\u001b[0;34m)\u001b[0m\u001b[0;34m\u001b[0m\u001b[0;34m\u001b[0m\u001b[0m\n\u001b[0m\u001b[1;32m     13\u001b[0m \u001b[0;34m\u001b[0m\u001b[0m\n\u001b[1;32m     14\u001b[0m         \u001b[0;31m# code here\u001b[0m\u001b[0;34m\u001b[0m\u001b[0;34m\u001b[0m\u001b[0;34m\u001b[0m\u001b[0m\n",
      "\u001b[0;31mInteractionExceeded\u001b[0m: "
     ]
    }
   ],
   "source": [
    "explorer.step(rl.policy.RandomPolicy(n_action=4))"
   ]
  },
  {
   "cell_type": "markdown",
   "metadata": {},
   "source": [
    "Expected result: `InteractionExceeded` exception raised."
   ]
  },
  {
   "cell_type": "markdown",
   "metadata": {},
   "source": [
    "## Running the algorithm"
   ]
  },
  {
   "cell_type": "code",
   "execution_count": 7,
   "metadata": {},
   "outputs": [],
   "source": [
    "def run(policy, n_max_interaction):\n",
    "    rl.util.set_seed(0) # predictable results\n",
    "    env = make_env()\n",
    "    explorer = OneStepExplorer(n_max_interaction=n_max_interaction, env=env)\n",
    "\n",
    "    while True:\n",
    "        try:\n",
    "            data = explorer.step(policy)\n",
    "            policy.optimize_step(data)  # not defined\n",
    "        except rl.exception.InteractionExceeded:\n",
    "            break\n",
    "    df = pd.DataFrame(explorer.get_stats()['history'])\n",
    "    return df"
   ]
  },
  {
   "cell_type": "code",
   "execution_count": 8,
   "metadata": {},
   "outputs": [
    {
     "name": "stdout",
     "output_type": "stream",
     "text": [
      "max: 2\n"
     ]
    },
    {
     "data": {
      "text/plain": [
       "<matplotlib.axes._subplots.AxesSubplot at 0x7f7c4f189f60>"
      ]
     },
     "execution_count": 8,
     "metadata": {},
     "output_type": "execute_result"
    },
    {
     "data": {
      "image/png": "[encoded data removed]",
      "text/plain": [
       "<Figure size 432x288 with 1 Axes>"
      ]
     },
     "metadata": {
      "needs_background": "light"
     },
     "output_type": "display_data"
    }
   ],
   "source": [
    "policy = SARSAPolicy(lr=0.1,\n",
    "                     discount_factor=0.99,\n",
    "                     observation_space=env.observation_space,\n",
    "                     n_action=env.action_space.n)\n",
    "\n",
    "stats = run(policy, 500)\n",
    "print('max:', stats['reward'].max())\n",
    "stats.plot(x='n_interaction', y='reward')"
   ]
  },
  {
   "cell_type": "markdown",
   "metadata": {},
   "source": [
    "Expected result: In our implementation, we could get ~2 reward under 500 iteractions."
   ]
  },
  {
   "cell_type": "markdown",
   "metadata": {},
   "source": [
    "# Q1: Even without an explicit exploration like epsilon greedy, SARSA seems to work! Why is that the case? What works as an \"implicit\" exploration?\n",
    "\n",
    "Describe here ...\n",
    "\n",
    "Answer: there is an implicit exploration which is -1 reward for each step. This implicit exploration is fortunately enough in this case."
   ]
  },
  {
   "cell_type": "markdown",
   "metadata": {},
   "source": [
    "# Q2: Show us then when an explicit exploration would be important? \n",
    "\n",
    "Create code blocks (and run them) as needed to proof your argument by comparing results SARSA vs. SARSA + epsilon greedy \n",
    "\n",
    "Plots are welcome."
   ]
  },
  {
   "cell_type": "code",
   "execution_count": 9,
   "metadata": {},
   "outputs": [],
   "source": [
    "class EpsilonGreedy(rl.policy.BasePolicyWrapper):\n",
    "    def __init__(self, policy):\n",
    "        self.policy = policy\n",
    "\n",
    "    def step(self, state):\n",
    "        # code here ...\n",
    "        # ...\n",
    "        if random.random() < 0.1:\n",
    "            return random.randint(0, 3)\n",
    "        else:\n",
    "            return self.policy.step(state)"
   ]
  },
  {
   "cell_type": "markdown",
   "metadata": {},
   "source": [
    "Create blocks as needed ..."
   ]
  },
  {
   "cell_type": "markdown",
   "metadata": {},
   "source": [
    "## Possible answer: changing the move reward = 0"
   ]
  },
  {
   "cell_type": "code",
   "execution_count": 10,
   "metadata": {},
   "outputs": [],
   "source": [
    "def make_env():\n",
    "    env = rl.env.Gridworld(shape=(4, 3),\n",
    "                           start=(2, 0),\n",
    "                           goal=(1, 2),\n",
    "                           move_reward=0)\n",
    "    env = rl.env.wrapper.ClipEpisodeLength(env, n_max_length=20)\n",
    "    env = rl.env.wrapper.EpisodeSummary(env)\n",
    "    return env"
   ]
  },
  {
   "cell_type": "markdown",
   "metadata": {},
   "source": [
    "SARSA without epsilon greedy"
   ]
  },
  {
   "cell_type": "code",
   "execution_count": 18,
   "metadata": {},
   "outputs": [
    {
     "data": {
      "text/plain": [
       "<matplotlib.legend.Legend at 0x7f7c4ed18fd0>"
      ]
     },
     "execution_count": 18,
     "metadata": {},
     "output_type": "execute_result"
    },
    {
     "data": {
      "image/png": "[encoded data removed]",
      "text/plain": [
       "<Figure size 432x288 with 1 Axes>"
      ]
     },
     "metadata": {
      "needs_background": "light"
     },
     "output_type": "display_data"
    }
   ],
   "source": [
    "policy = SARSAPolicy(lr=0.1,\n",
    "                     discount_factor=0.99,\n",
    "                     observation_space=env.observation_space,\n",
    "                     n_action=env.action_space.n)\n",
    "sarsa = run(policy, 3000)\n",
    "\n",
    "policy = SARSAPolicy(lr=0.1,\n",
    "                     discount_factor=0.99,\n",
    "                     observation_space=env.observation_space,\n",
    "                     n_action=env.action_space.n)\n",
    "policy = EpsilonGreedy(policy)\n",
    "sarsa_eg = run(policy, 3000)\n",
    "\n",
    "ax = plt.subplot()\n",
    "sarsa.plot(x='n_interaction', y='reward', ax=ax)\n",
    "sarsa_eg.plot(x='n_interaction', y='reward', ax=ax)\n",
    "ax.legend(['sarsa', 'sarsa+eg'])"
   ]
  },
  {
   "cell_type": "code",
   "execution_count": null,
   "metadata": {},
   "outputs": [],
   "source": []
  }
 ],
 "metadata": {
  "kernelspec": {
   "display_name": "Python 3",
   "language": "python",
   "name": "python3"
  },
  "language_info": {
   "codemirror_mode": {
    "name": "ipython",
    "version": 3
   },
   "file_extension": ".py",
   "mimetype": "text/x-python",
   "name": "python",
   "nbconvert_exporter": "python",
   "pygments_lexer": "ipython3",
   "version": "3.7.3"
  }
 },
 "nbformat": 4,
 "nbformat_minor": 4
}
