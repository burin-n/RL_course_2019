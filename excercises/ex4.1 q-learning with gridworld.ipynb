{
 "cells": [
  {
   "cell_type": "markdown",
   "metadata": {},
   "source": [
    "# Q-learning with Gridworld\n",
    "\n",
    "## Goal:\n",
    "\n",
    "- Implement Q-learning"
   ]
  },
  {
   "cell_type": "code",
   "execution_count": null,
   "metadata": {},
   "outputs": [],
   "source": [
    "import gym\n",
    "import chula_rl as rl\n",
    "import os\n",
    "import numpy as np\n",
    "import random\n",
    "from collections import deque, defaultdict\n",
    "import pandas as pd\n",
    "import matplotlib.pyplot as plt"
   ]
  },
  {
   "cell_type": "markdown",
   "metadata": {},
   "source": [
    "## Step 1: Make Env"
   ]
  },
  {
   "cell_type": "code",
   "execution_count": null,
   "metadata": {},
   "outputs": [],
   "source": [
    "def make_env():\n",
    "    env = rl.env.Gridworld(shape=(4, 3),\n",
    "                           start=(2, 0),\n",
    "                           goal=(1, 2),\n",
    "                           move_reward=-1)\n",
    "    env = rl.env.wrapper.ClipEpisodeLength(env, n_max_length=20)\n",
    "    env = rl.env.wrapper.EpisodeSummary(env)\n",
    "    return env\n",
    "\n",
    "\n",
    "env = make_env()\n",
    "env.reset()\n",
    "env.render()"
   ]
  },
  {
   "cell_type": "markdown",
   "metadata": {},
   "source": [
    "## Step 2: Define policy\n",
    "\n",
    "Define Q-learning agent with epsilon greedy. We have defined the epsilon greedy for you. Use `rl.policy.wrapper.EpsilonGreedy`."
   ]
  },
  {
   "cell_type": "code",
   "execution_count": null,
   "metadata": {},
   "outputs": [],
   "source": [
    "class QlearningPolicy(rl.policy.BasePolicy):\n",
    "\n",
    "    def __init__(self, lr, discount_factor, observation_space, n_action):\n",
    "        self.lr = lr\n",
    "        self.discount_factor = discount_factor\n",
    "        self.observation_space = observation_space\n",
    "        self.n_action = n_action\n",
    "\n",
    "        self.q = np.zeros(list(self.observation_space.high) +\n",
    "                          [n_action])  # (s0, s1, a)\n",
    "\n",
    "    def step(self, state):\n",
    "        # code here ...\n",
    "        # ...\n",
    "        pass\n",
    "\n",
    "    def optimize_step(self, data):\n",
    "        s, a, r, ss, done = data['s'], data['a'], data['r'], data['ss'], data[\n",
    "            'done']\n",
    "        # code here ...\n",
    "        # ...\n",
    "        pass"
   ]
  },
  {
   "cell_type": "markdown",
   "metadata": {},
   "source": [
    "## Step 3: Define an explorer\n",
    "\n",
    "we have `OneStepExplorer` for you, try to make use of it. It will run a policy for one step, return the result immediately.\n",
    "\n",
    "It will return:\n",
    "\n",
    "```\n",
    "{\n",
    "    's': current state,\n",
    "    'a': action,\n",
    "    'r': reward,\n",
    "    'ss': next state,\n",
    "    'aa': next action,\n",
    "    'done': is done?,\n",
    "}\n",
    "```"
   ]
  },
  {
   "cell_type": "markdown",
   "metadata": {},
   "source": [
    "## Running the algorithm"
   ]
  },
  {
   "cell_type": "code",
   "execution_count": null,
   "metadata": {},
   "outputs": [],
   "source": [
    "def run(policy, n_max_interaction):\n",
    "    rl.util.set_seed(0) # predictable results\n",
    "    env = make_env()\n",
    "    explorer = rl.explorer.OneStepExplorer(n_max_interaction=n_max_interaction, env=env)\n",
    "\n",
    "    while True:\n",
    "        try:\n",
    "            data = explorer.step(policy)\n",
    "            policy.optimize_step(data)  # not defined\n",
    "        except rl.exception.InteractionExceeded:\n",
    "            break\n",
    "    df = pd.DataFrame(explorer.get_hist())\n",
    "    return df"
   ]
  },
  {
   "cell_type": "code",
   "execution_count": null,
   "metadata": {},
   "outputs": [],
   "source": [
    "policy = QlearningPolicy(lr=0.1,\n",
    "                         discount_factor=0.99,\n",
    "                         observation_space=env.observation_space,\n",
    "                         n_action=env.action_space.n)\n",
    "\n",
    "stats = run(policy, 500)\n",
    "print('max:', stats['reward'].max())\n",
    "stats.plot(x='n_interaction', y='reward')\n"
   ]
  },
  {
   "cell_type": "markdown",
   "metadata": {},
   "source": [
    "Expeceted result: max of 2 reward.\n",
    "\n",
    "![](data:image/png;base64,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)"
   ]
  },
  {
   "cell_type": "code",
   "execution_count": null,
   "metadata": {},
   "outputs": [],
   "source": []
  }
 ],
 "metadata": {
  "kernelspec": {
   "display_name": "Python 3",
   "language": "python",
   "name": "python3"
  },
  "language_info": {
   "codemirror_mode": {
    "name": "ipython",
    "version": 3
   },
   "file_extension": ".py",
   "mimetype": "text/x-python",
   "name": "python",
   "nbconvert_exporter": "python",
   "pygments_lexer": "ipython3",
   "version": "3.7.3"
  }
 },
 "nbformat": 4,
 "nbformat_minor": 4
}
