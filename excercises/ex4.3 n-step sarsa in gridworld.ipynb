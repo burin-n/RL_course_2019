{
 "cells": [
  {
   "cell_type": "markdown",
   "metadata": {},
   "source": [
    "# n-step SARSA in Gridworld\n",
    "\n",
    "## Goal:\n",
    "\n",
    "- implement n-step SARSA"
   ]
  },
  {
   "cell_type": "code",
   "execution_count": null,
   "metadata": {},
   "outputs": [],
   "source": [
    "import gym\n",
    "import chula_rl as rl\n",
    "import os\n",
    "import numpy as np\n",
    "import random\n",
    "from collections import deque, defaultdict\n",
    "import pandas as pd\n",
    "from pprint import pprint\n",
    "import matplotlib.pyplot as plt"
   ]
  },
  {
   "cell_type": "markdown",
   "metadata": {},
   "source": [
    "## Step 1: Make Env\n",
    "\n",
    "In this exercise, we would use a much larger enivornment."
   ]
  },
  {
   "cell_type": "code",
   "execution_count": null,
   "metadata": {},
   "outputs": [],
   "source": [
    "def make_env():\n",
    "    env = rl.env.Gridworld(shape=(10, 10), start=(0, 0), goal=(9, 9), goal_reward=30)\n",
    "    env = rl.env.wrapper.ClipEpisodeLength(env, n_max_length=30)\n",
    "    env = rl.env.wrapper.EpisodeSummary(env)\n",
    "    return env\n",
    "\n",
    "\n",
    "env = make_env()\n",
    "env.reset()\n",
    "env.render()"
   ]
  },
  {
   "cell_type": "markdown",
   "metadata": {},
   "source": [
    "## Step 2: Define many-step explorer\n",
    "\n",
    "This explorer should take \"n\" steps in the environment, then returns the data observed.\n",
    "\n",
    "If during \"n\" steps the environment terminates, just restart the environment and continue. Always returning \"n\" steps worth of experience. "
   ]
  },
  {
   "cell_type": "code",
   "execution_count": null,
   "metadata": {},
   "outputs": [],
   "source": [
    "class ManyStepExplorer(rl.explorer.BaseExplorer):\n",
    "    def __init__(self, n_step: int, n_max_interaction: int, env: gym.Env):\n",
    "        super().__init__(env)\n",
    "        self.n_step = n_step\n",
    "        self.n_max_interaction = n_max_interaction\n",
    "\n",
    "        self.last_s = self.env.reset()\n",
    "        self.n_interaction = 0\n",
    "        self.n_ep = 0\n",
    "\n",
    "    def step(self, policy):\n",
    "        data = defaultdict(list)\n",
    "        for _ in range(self.n_step):\n",
    "            if self.n_interaction > self.n_max_interaction:\n",
    "                raise rl.exception.InteractionExceeded()\n",
    "                \n",
    "            # code here ...\n",
    "            # ...\n",
    "            pass\n",
    "\n",
    "            if done:\n",
    "                # hint: reset and continue\n",
    "                # code here ...\n",
    "                # ...\n",
    "                pass\n",
    "\n",
    "        return data\n"
   ]
  },
  {
   "cell_type": "markdown",
   "metadata": {},
   "source": [
    "Test the many-step explorer"
   ]
  },
  {
   "cell_type": "code",
   "execution_count": null,
   "metadata": {},
   "outputs": [],
   "source": [
    "rl.util.set_seed(0)\n",
    "agent = rl.policy.RandomPolicy(env.action_space.n)\n",
    "explorer = ManyStepExplorer(n_step=3, n_max_interaction=100, env=env)\n",
    "for i in range(3):\n",
    "    data = explorer.step(agent)\n",
    "    \n",
    "print('states:')\n",
    "print(np.array(data['s']))\n",
    "print('actions:', np.array(data['a']))\n",
    "print('rewards:', np.array(data['r']))\n",
    "print('dones:', np.array(data['done']))\n",
    "print('final_s:', data['final_s'])\n",
    "print('final_a:', data['final_a'])"
   ]
  },
  {
   "cell_type": "markdown",
   "metadata": {},
   "source": [
    "Expected result: \n",
    "\n",
    "```\n",
    "states:\n",
    "[[2 1]\n",
    " [2 0]\n",
    " [3 0]]\n",
    "actions: [1 2 2]\n",
    "rewards: [-1 -1 -1]\n",
    "dones: [False False False]\n",
    "final_s: [4 0]\n",
    "final_a: 0\n",
    "```\n",
    "\n",
    "Yours could differ, but the structure should be the same."
   ]
  },
  {
   "cell_type": "markdown",
   "metadata": {},
   "source": [
    "## Step 3: Define N-step SARSA policy\n",
    "\n",
    "Our n-step SARSA would recieve \"n\" steps worth of experience each time. \n",
    "\n",
    "That is we could construct from **1-step return to n-step returns**. \n",
    "\n",
    "We would use all of these not just the n-step return!"
   ]
  },
  {
   "cell_type": "code",
   "execution_count": null,
   "metadata": {},
   "outputs": [],
   "source": [
    "def make_returns(r, done, final_q, discount_factor):\n",
    "    \"\"\"returns n-step return to 1-step return\"\"\"\n",
    "    # code here ...\n",
    "    # ...\n",
    "    return g"
   ]
  },
  {
   "cell_type": "markdown",
   "metadata": {},
   "source": [
    "Test make_returns"
   ]
  },
  {
   "cell_type": "code",
   "execution_count": null,
   "metadata": {},
   "outputs": [],
   "source": [
    "make_returns(\n",
    "    [1., 1., 1.],\n",
    "    [False, False, False],\n",
    "    1.,\n",
    "    0.9\n",
    ")"
   ]
  },
  {
   "cell_type": "markdown",
   "metadata": {},
   "source": [
    "Expected result: `array([3.439, 2.71 , 1.9  ])`"
   ]
  },
  {
   "cell_type": "markdown",
   "metadata": {},
   "source": [
    "Test make_returns"
   ]
  },
  {
   "cell_type": "code",
   "execution_count": null,
   "metadata": {},
   "outputs": [],
   "source": [
    "make_returns(\n",
    "    [1., 1., 1.],\n",
    "    [False, True, False],\n",
    "    1.,\n",
    "    0.9\n",
    ")"
   ]
  },
  {
   "cell_type": "markdown",
   "metadata": {},
   "source": [
    "Expected result: `array([1.9, 1. , 1.9])`"
   ]
  },
  {
   "cell_type": "markdown",
   "metadata": {},
   "source": [
    "Define the policy"
   ]
  },
  {
   "cell_type": "code",
   "execution_count": null,
   "metadata": {},
   "outputs": [],
   "source": [
    "class NStepSARSAPolicy(rl.policy.BasePolicy):\n",
    "\n",
    "    def __init__(self, lr, discount_factor, observation_space, n_action):\n",
    "        self.lr = lr\n",
    "        self.discount_factor = discount_factor\n",
    "        self.observation_space = observation_space\n",
    "        self.n_action = n_action\n",
    "\n",
    "        self.q = np.zeros(list(self.observation_space.high) +\n",
    "                          [n_action])  # (s0, s1, a)\n",
    "\n",
    "    def step(self, state):\n",
    "        # code here \n",
    "        # ...\n",
    "        pass\n",
    "\n",
    "    def optimize_step(self, data):\n",
    "        s = np.array(data['s'])\n",
    "        a = np.array(data['a'])\n",
    "        r = np.array(data['r'])\n",
    "        done = np.array(data['done'])\n",
    "        final_s = data['final_s']\n",
    "        final_a = data['final_a']\n",
    "\n",
    "        # code here\n",
    "        # ...\n",
    "        # calculate the n-step to one-step returns\n",
    "        pass\n"
   ]
  },
  {
   "cell_type": "markdown",
   "metadata": {},
   "source": [
    "## Training 5-step TD"
   ]
  },
  {
   "cell_type": "code",
   "execution_count": null,
   "metadata": {},
   "outputs": [],
   "source": [
    "rl.util.set_seed(0)\n",
    "policy = NStepSARSAPolicy(lr=0.1,\n",
    "                          discount_factor=0.99,\n",
    "                          observation_space=env.observation_space,\n",
    "                          n_action=env.action_space.n)\n",
    "policy = rl.policy.wrapper.EpsilonGreedy(policy,\n",
    "                                         eps=0.1,\n",
    "                                         n_action=env.action_space.n)\n",
    "explorer = ManyStepExplorer(n_step=5, n_max_interaction=30_000, env=env)\n",
    "df = rl.trainer.train(explorer, policy, make_env, callbacks=[rl.trainer.ExplorerStatsCb(10)])\n",
    "df.plot(x='n_interaction', y='reward')"
   ]
  },
  {
   "cell_type": "markdown",
   "metadata": {},
   "source": [
    "Expected result: something like the following\n",
    "\n",
    "![](data:image/png;base64,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)"
   ]
  },
  {
   "cell_type": "markdown",
   "metadata": {},
   "source": [
    "# Comparing with one-step TD"
   ]
  },
  {
   "cell_type": "code",
   "execution_count": null,
   "metadata": {},
   "outputs": [],
   "source": [
    "rl.util.set_seed(0)\n",
    "env = make_env()\n",
    "policy = rl.policy.tabular.SARSAPolicy(lr=0.1,\n",
    "                                       discount_factor=0.99,\n",
    "                                       observation_space=env.observation_space,\n",
    "                                       n_action=env.action_space.n)\n",
    "policy = rl.policy.wrapper.EpsilonGreedy(policy,\n",
    "                                         eps=0.1,\n",
    "                                         n_action=env.action_space.n)\n",
    "\n",
    "explorer = rl.explorer.OneStepExplorer(n_max_interaction=30_000, env=env)\n",
    "df = rl.trainer.train(explorer, policy, make_env, callbacks=[rl.trainer.ExplorerStatsCb(10)])\n",
    "df.plot(x='n_interaction', y='reward')"
   ]
  },
  {
   "cell_type": "markdown",
   "metadata": {},
   "source": [
    "Expected result:\n",
    "\n",
    "![](data:image/png;base64,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)"
   ]
  },
  {
   "cell_type": "markdown",
   "metadata": {},
   "source": [
    "# Q1: How do the results from 5-step TD and 1-step TD differ? Are these expected? How?\n",
    "\n",
    "Describe here ..."
   ]
  },
  {
   "cell_type": "code",
   "execution_count": null,
   "metadata": {},
   "outputs": [],
   "source": []
  }
 ],
 "metadata": {
  "kernelspec": {
   "display_name": "Python 3",
   "language": "python",
   "name": "python3"
  },
  "language_info": {
   "codemirror_mode": {
    "name": "ipython",
    "version": 3
   },
   "file_extension": ".py",
   "mimetype": "text/x-python",
   "name": "python",
   "nbconvert_exporter": "python",
   "pygments_lexer": "ipython3",
   "version": "3.7.3"
  }
 },
 "nbformat": 4,
 "nbformat_minor": 4
}
