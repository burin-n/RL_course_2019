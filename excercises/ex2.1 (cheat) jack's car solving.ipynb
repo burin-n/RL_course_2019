{
 "cells": [
  {
   "cell_type": "markdown",
   "metadata": {},
   "source": [
    "# ex2.1 jack's car rental solving\n",
    "\n",
    "Goal:\n",
    "\n",
    "- implementing value iteration in dynamic programming"
   ]
  },
  {
   "cell_type": "code",
   "execution_count": 1,
   "metadata": {},
   "outputs": [],
   "source": [
    "import numpy as np\n",
    "import matplotlib.pyplot as plt\n",
    "import seaborn as sns"
   ]
  },
  {
   "cell_type": "markdown",
   "metadata": {},
   "source": [
    "## copy the code from ex2.0 here\n",
    "\n",
    "Note: numba's jit could compile python's code to near native performance. If you can use it without problems, good for you, if not, just remove the line `@jit(nopython=True)`."
   ]
  },
  {
   "cell_type": "code",
   "execution_count": 3,
   "metadata": {},
   "outputs": [],
   "source": [
    "import numpy as np\n",
    "from scipy.stats import poisson\n",
    "from numba import jit\n",
    "\n",
    "N_CARS = 20\n",
    "\n",
    "# renting and returning propabilities\n",
    "P_RETURN_A = poisson.pmf(np.arange(0, N_CARS + 1), 3)\n",
    "P_RENT_A = poisson.pmf(np.arange(0, N_CARS + 1), 3)\n",
    "P_RETURN_B = poisson.pmf(np.arange(0, N_CARS + 1), 2)\n",
    "P_RENT_B = poisson.pmf(np.arange(0, N_CARS + 1), 4)\n",
    "\n",
    "@jit(nopython=True)\n",
    "def step_rent(n_car, p):\n",
    "    # code here ...\n",
    "    \"\"\"return probability distribution over the number of cars after rent\"\"\"\n",
    "    pp = np.zeros(N_CARS + 1)\n",
    "    r = 0.\n",
    "    for i_rent in range(0, N_CARS + 1):\n",
    "        _p = p[i_rent]\n",
    "        i_rent = min(n_car, i_rent)\n",
    "        r += _p * 10. * i_rent\n",
    "        pp[n_car - i_rent] += _p\n",
    "    return pp, r\n",
    "\n",
    "@jit(nopython=True)\n",
    "def step_return(p_car, p):\n",
    "    # code here ...\n",
    "    \"\"\"return a distribution over the number of cars aftern returned\"\"\"\n",
    "    pp = np.zeros(N_CARS + 1)\n",
    "    for n_car in range(0, N_CARS + 1):\n",
    "        for i_ret in range(0, N_CARS + 1):\n",
    "            nn_car = min(n_car + i_ret, N_CARS)\n",
    "            pp[nn_car] += p_car[n_car] * p[i_ret]\n",
    "    return pp\n",
    "\n",
    "\n",
    "def step_rent_return(n_car, p_rent, p_return):\n",
    "    # code here ...\n",
    "    p, r = step_rent(n_car, p_rent)\n",
    "    p = step_return(p, p_return)\n",
    "    return p, r\n",
    "\n",
    "\n",
    "def step_env(s, a):\n",
    "    \"\"\"step a on state s, returning the next state distribution and the expected reward\"\"\"\n",
    "    # code here ...\n",
    "    # move cars\n",
    "    n_a, n_b = s\n",
    "    n_a -= a\n",
    "    n_b += a\n",
    "    r_move = -2 * abs(a)\n",
    "    # renting and returning\n",
    "    p_a, r_a = step_rent_return(n_a, P_RENT_A, P_RETURN_A)\n",
    "    p_b, r_b = step_rent_return(n_b, P_RENT_B, P_RETURN_B)\n",
    "    p = np.outer(p_a, p_b)\n",
    "    r = r_move + r_a + r_b\n",
    "    return p, r\n"
   ]
  },
  {
   "cell_type": "markdown",
   "metadata": {},
   "source": [
    "# value iteration\n",
    "\n",
    "implement the value iteration to solve this Jack's car rental problem."
   ]
  },
  {
   "cell_type": "code",
   "execution_count": 6,
   "metadata": {},
   "outputs": [],
   "source": [
    "def valid_a(s):\n",
    "    # note: this function is not given\n",
    "    \"\"\"you can move at most -5 to 5 cars per night\"\"\"\n",
    "    n_a, n_b = s\n",
    "    a = []\n",
    "    for i in range(-5, 6):\n",
    "        if 0 <= n_a - i <= N_CARS and 0 <= n_b + i <= N_CARS: a.append(i)\n",
    "    return a\n",
    "\n",
    "def value_itr(v, thresh=1e-4):\n",
    "    # code here ...\n",
    "    while True:\n",
    "        change = 0.\n",
    "        for n_a in range(0, N_CARS+1):\n",
    "            for n_b in range(0, N_CARS+1):\n",
    "                s = (n_a, n_b)\n",
    "                x = [0]\n",
    "                for a in valid_a(s):\n",
    "                    p, r = step_env(s, a)\n",
    "                    x.append(r + 0.9 * (v * p).sum())\n",
    "                new_v = max(x)\n",
    "                change = max(change, abs(new_v - v[s]))\n",
    "                v[s] = new_v\n",
    "                \n",
    "        print('change:', change)\n",
    "        if change < thresh:\n",
    "            break\n"
   ]
  },
  {
   "cell_type": "markdown",
   "metadata": {},
   "source": [
    "## verify the solution value"
   ]
  },
  {
   "cell_type": "code",
   "execution_count": 7,
   "metadata": {},
   "outputs": [
    {
     "name": "stdout",
     "output_type": "stream",
     "text": [
      "change: 246.74075548520187\n",
      "change: 155.48312675033273\n",
      "change: 93.42747837803023\n",
      "change: 66.28109753748751\n",
      "change: 50.046989765331034\n",
      "change: 38.610754075476905\n",
      "change: 31.326655237724083\n",
      "change: 25.757458251955825\n",
      "change: 21.132510939931308\n",
      "change: 17.318241468994188\n",
      "change: 14.183327892655086\n",
      "change: 11.613249138859146\n",
      "change: 9.508219189034378\n",
      "change: 7.784252298612216\n",
      "change: 6.372796511401532\n",
      "change: 5.217436419806575\n",
      "change: 4.271581559667254\n",
      "change: 3.497247613991192\n",
      "change: 2.8633616960318022\n",
      "change: 2.3444375004120275\n",
      "change: 1.919604817445986\n",
      "change: 1.5717859839733137\n",
      "change: 1.2870086780064867\n",
      "change: 1.0538427888984643\n",
      "change: 0.8629351647009003\n",
      "change: 0.7066243723030539\n",
      "change: 0.5786360662228844\n",
      "change: 0.47383724138791194\n",
      "change: 0.388025170809442\n",
      "change: 0.31775857572790756\n",
      "change: 0.26021971821336365\n",
      "change: 0.21310178768555943\n",
      "change: 0.17451651943321167\n",
      "change: 0.14291820616762152\n",
      "change: 0.11704140633469251\n",
      "change: 0.09585000831935986\n",
      "change: 0.07849559455394228\n",
      "change: 0.06428339908393355\n",
      "change: 0.05264446569242409\n",
      "change: 0.04311286349070542\n",
      "change: 0.03530703103461974\n",
      "change: 0.028914497945152107\n",
      "change: 0.023679372940762278\n",
      "change: 0.01939209795057195\n",
      "change: 0.01588105802937889\n",
      "change: 0.013005710853747132\n",
      "change: 0.01065096047420866\n",
      "change: 0.008722549906281074\n",
      "change: 0.007143288017061877\n",
      "change: 0.0058499596037222545\n",
      "change: 0.004790794933569487\n",
      "change: 0.003923397454570932\n",
      "change: 0.0032130467229194437\n",
      "change: 0.002631308605543836\n",
      "change: 0.0021548971170091136\n",
      "change: 0.0017647423233597692\n",
      "change: 0.0014452270058313843\n",
      "change: 0.0011835615266591049\n",
      "change: 0.0009692718801943556\n",
      "change: 0.0007937804337529997\n",
      "change: 0.0006500625802914328\n",
      "change: 0.0005323655524307469\n",
      "change: 0.0004359781512448535\n",
      "change: 0.0003570421633867227\n",
      "change: 0.00029239792439739176\n",
      "change: 0.00023945784289480798\n",
      "change: 0.00019610282339499463\n",
      "change: 0.00016059744336871518\n",
      "change: 0.0001315204867751163\n",
      "change: 0.00010770805630500035\n",
      "change: 8.820698332101529e-05\n",
      "421.4136554821914 636.9894057704319\n"
     ]
    },
    {
     "data": {
      "text/plain": [
       "<matplotlib.axes._subplots.AxesSubplot at 0x7f1e708920f0>"
      ]
     },
     "execution_count": 7,
     "metadata": {},
     "output_type": "execute_result"
    },
    {
     "data": {
      "image/png": "[encoded data removed]",
      "text/plain": [
       "<Figure size 432x288 with 2 Axes>"
      ]
     },
     "metadata": {
      "needs_background": "light"
     },
     "output_type": "display_data"
    }
   ],
   "source": [
    "v = np.zeros((N_CARS+1, N_CARS+1))\n",
    "value_itr(v)\n",
    "print(v.min(), v.max())\n",
    "sns.heatmap(v)"
   ]
  },
  {
   "cell_type": "markdown",
   "metadata": {},
   "source": [
    "Expected result:\n",
    "\n",
    "421.4136554821914 636.9894057704319\n",
    "\n",
    "![](data:image/png;base64,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)"
   ]
  },
  {
   "cell_type": "markdown",
   "metadata": {},
   "source": [
    "# show the greedy policy"
   ]
  },
  {
   "cell_type": "code",
   "execution_count": 8,
   "metadata": {},
   "outputs": [],
   "source": [
    "def greedy(v):\n",
    "    pi = np.zeros((N_CARS+1, N_CARS+1))\n",
    "    for n_a in range(0, N_CARS+1):\n",
    "        for n_b in range(0, N_CARS+1):\n",
    "            s = (n_a, n_b)\n",
    "            x = [0]\n",
    "            act = [0]\n",
    "            for a in valid_a(s):\n",
    "                p, r = step_env(s, a)\n",
    "                x.append(r + 0.9 * (v * p).sum())\n",
    "                act.append(a)\n",
    "            pi[s] = act[np.argmax(x)]\n",
    "    return pi"
   ]
  },
  {
   "cell_type": "markdown",
   "metadata": {},
   "source": [
    "## verify the greedy solution policy"
   ]
  },
  {
   "cell_type": "code",
   "execution_count": 9,
   "metadata": {},
   "outputs": [
    {
     "data": {
      "text/plain": [
       "<matplotlib.axes._subplots.AxesSubplot at 0x7f1e6d62d7b8>"
      ]
     },
     "execution_count": 9,
     "metadata": {},
     "output_type": "execute_result"
    },
    {
     "data": {
      "image/png": "[encoded data removed]",
      "text/plain": [
       "<Figure size 432x288 with 2 Axes>"
      ]
     },
     "metadata": {
      "needs_background": "light"
     },
     "output_type": "display_data"
    }
   ],
   "source": [
    "pi = greedy(v)\n",
    "sns.heatmap(pi[::-1], xticklabels=range(N_CARS+1), yticklabels=list(reversed(range(N_CARS+1))))"
   ]
  },
  {
   "cell_type": "markdown",
   "metadata": {},
   "source": [
    "Expected result:\n",
    "\n",
    "![](data:image/png;base64,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)"
   ]
  },
  {
   "cell_type": "markdown",
   "metadata": {},
   "source": [
    "# If we change the renting and returning probabilities like the following:"
   ]
  },
  {
   "cell_type": "code",
   "execution_count": 67,
   "metadata": {},
   "outputs": [],
   "source": [
    "P_RETURN_A = poisson.pmf(np.arange(0, N_CARS + 1), 0)\n",
    "P_RENT_A = poisson.pmf(np.arange(0, N_CARS + 1), 4)\n",
    "P_RETURN_B = poisson.pmf(np.arange(0, N_CARS + 1), 4)\n",
    "P_RENT_B = poisson.pmf(np.arange(0, N_CARS + 1), 0)"
   ]
  },
  {
   "cell_type": "markdown",
   "metadata": {},
   "source": [
    "## Q: what is an expected behavior?"
   ]
  },
  {
   "cell_type": "markdown",
   "metadata": {},
   "source": [
    "Describe in this box....\n",
    "(cheat) The behavior should be reversed. B will send cars to A. Unless A has sufficiently large number of cars already."
   ]
  }
 ],
 "metadata": {
  "kernelspec": {
   "display_name": "Python 3",
   "language": "python",
   "name": "python3"
  },
  "language_info": {
   "codemirror_mode": {
    "name": "ipython",
    "version": 3
   },
   "file_extension": ".py",
   "mimetype": "text/x-python",
   "name": "python",
   "nbconvert_exporter": "python",
   "pygments_lexer": "ipython3",
   "version": "3.7.3"
  }
 },
 "nbformat": 4,
 "nbformat_minor": 2
}
